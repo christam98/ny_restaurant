{
 "cells": [
  {
   "cell_type": "code",
   "execution_count": 21,
   "id": "f3e6010f",
   "metadata": {},
   "outputs": [],
   "source": [
    "import pandas as pd\n",
    "import numpy as np\n",
    "pd.options.mode.chained_assignment = None  # default='warn'\n"
   ]
  },
  {
   "cell_type": "code",
   "execution_count": 22,
   "id": "c986a0c3",
   "metadata": {},
   "outputs": [
    {
     "data": {
      "text/plain": [
       "(319818, 26)"
      ]
     },
     "execution_count": 22,
     "metadata": {},
     "output_type": "execute_result"
    }
   ],
   "source": [
    "df = pd.read_csv(\"/Users/Chris/Desktop/COOP/DOHMH_New_York_City_Restaurant_Inspection_Results.csv\")\n",
    "df.shape\n"
   ]
  },
  {
   "cell_type": "code",
   "execution_count": 23,
   "id": "17c6c42c",
   "metadata": {},
   "outputs": [
    {
     "data": {
      "text/plain": [
       "Index(['CAMIS', 'DBA', 'BORO', 'BUILDING', 'STREET', 'ZIPCODE', 'PHONE',\n",
       "       'CUISINE DESCRIPTION', 'INSPECTION DATE', 'ACTION', 'VIOLATION CODE',\n",
       "       'VIOLATION DESCRIPTION', 'CRITICAL FLAG', 'SCORE', 'GRADE',\n",
       "       'GRADE DATE', 'RECORD DATE', 'INSPECTION TYPE', 'Latitude', 'Longitude',\n",
       "       'Community Board', 'Council District', 'Census Tract', 'BIN', 'BBL',\n",
       "       'NTA'],\n",
       "      dtype='object')"
      ]
     },
     "execution_count": 23,
     "metadata": {},
     "output_type": "execute_result"
    }
   ],
   "source": [
    "df.columns"
   ]
  },
  {
   "cell_type": "code",
   "execution_count": 24,
   "id": "f4ce8ba6",
   "metadata": {},
   "outputs": [
    {
     "data": {
      "text/plain": [
       "(304656, 26)"
      ]
     },
     "execution_count": 24,
     "metadata": {},
     "output_type": "execute_result"
    }
   ],
   "source": [
    "df_filtered = df.loc[(df['Latitude'] != 0) | (df['Longitude'] != 0)]\n",
    "df_filtered = df.dropna(subset=['Latitude', 'Longitude', 'SCORE', 'CUISINE DESCRIPTION'])\n",
    "df_filtered.shape"
   ]
  },
  {
   "cell_type": "code",
   "execution_count": 25,
   "id": "cd7d23a2",
   "metadata": {},
   "outputs": [],
   "source": [
    "def score_to_grade(score):\n",
    "    if score >= 0 and score <= 13:\n",
    "        return 'A'\n",
    "    elif score >= 14 and score <= 27:\n",
    "        return 'B'\n",
    "    elif score >= 28:\n",
    "        return 'C'\n",
    "    else:\n",
    "        return np.nan"
   ]
  },
  {
   "cell_type": "code",
   "execution_count": 26,
   "id": "941dd2e5",
   "metadata": {},
   "outputs": [],
   "source": [
    "missing_grades = df_filtered['GRADE'].isnull()"
   ]
  },
  {
   "cell_type": "code",
   "execution_count": 27,
   "id": "2b3bbf5c",
   "metadata": {},
   "outputs": [],
   "source": [
    "df_filtered.loc[missing_grades, \"GRADE\"] = df_filtered.loc[missing_grades, \"GRADE\"].apply(score_to_grade)"
   ]
  },
  {
   "cell_type": "code",
   "execution_count": 28,
   "id": "02e8589f",
   "metadata": {},
   "outputs": [
    {
     "data": {
      "text/plain": [
       "True"
      ]
     },
     "execution_count": 28,
     "metadata": {},
     "output_type": "execute_result"
    }
   ],
   "source": [
    "df_filtered[\"GRADE\"].isna().any()"
   ]
  },
  {
   "cell_type": "code",
   "execution_count": 38,
   "id": "5d8ac241",
   "metadata": {},
   "outputs": [
    {
     "data": {
      "text/plain": [
       "(160920, 26)"
      ]
     },
     "execution_count": 38,
     "metadata": {},
     "output_type": "execute_result"
    }
   ],
   "source": [
    "df_filtered = df_filtered.dropna(subset=[\"GRADE\"])\n",
    "df_filtered.shape"
   ]
  },
  {
   "cell_type": "code",
   "execution_count": 37,
   "id": "e39dea59",
   "metadata": {},
   "outputs": [],
   "source": [
    "df_filtered.to_csv(\"ny_restaurant.csv\")"
   ]
  }
 ],
 "metadata": {
  "kernelspec": {
   "display_name": "Python 3",
   "language": "python",
   "name": "python3"
  },
  "language_info": {
   "codemirror_mode": {
    "name": "ipython",
    "version": 3
   },
   "file_extension": ".py",
   "mimetype": "text/x-python",
   "name": "python",
   "nbconvert_exporter": "python",
   "pygments_lexer": "ipython3",
   "version": "3.8.8"
  }
 },
 "nbformat": 4,
 "nbformat_minor": 5
}
