{
 "cells": [
  {
   "cell_type": "code",
   "execution_count": 24,
   "id": "df0bff88",
   "metadata": {},
   "outputs": [
    {
     "name": "stdout",
     "output_type": "stream",
     "text": [
      "Requirement already satisfied: geopy in c:\\users\\chris\\anaconda3\\lib\\site-packages (2.3.0)\n",
      "Requirement already satisfied: geographiclib<3,>=1.52 in c:\\users\\chris\\anaconda3\\lib\\site-packages (from geopy) (2.0)\n",
      "Note: you may need to restart the kernel to use updated packages.\n"
     ]
    }
   ],
   "source": [
    "pip install geopy"
   ]
  },
  {
   "cell_type": "code",
   "execution_count": 13,
   "id": "9220a497",
   "metadata": {
    "scrolled": true
   },
   "outputs": [],
   "source": [
    "import asyncio\n",
    "import pandas as pd\n",
    "import numpy as np\n",
    "from geopy.geocoders import Nominatim\n",
    "from geopy.extra.rate_limiter import RateLimiter\n",
    "app = Nominatim(user_agent=\"ny_restaurant\")\n",
    "geolocator = RateLimiter(app.geocode, min_delay_seconds=5, max_retries=5)\n",
    "from tqdm import tqdm\n",
    "\n",
    "tqdm.pandas()\n",
    "\n",
    "from geopy.exc import GeocoderTimedOut\n"
   ]
  },
  {
   "cell_type": "code",
   "execution_count": 14,
   "id": "b79e828b",
   "metadata": {},
   "outputs": [],
   "source": [
    "df = pd.read_csv(\"/Users/Chris/Desktop/COOP/DOHMH_New_York_City_Restaurant_Inspection_Results.csv\")"
   ]
  },
  {
   "cell_type": "code",
   "execution_count": 15,
   "id": "0d29bba5-4b6c-47fd-9049-63ea198587ab",
   "metadata": {},
   "outputs": [],
   "source": [
    "#Note: some of the address have string length of 0 meaning we should check if the longitude/latitude data is there.\n",
    "#Otherwise, remove the data point there\n",
    "#Vice versa: If longitude/latitutde is missing, take the address and obtain the longitude and latitutde"
   ]
  },
  {
   "cell_type": "code",
   "execution_count": 16,
   "id": "f5910be1-d074-4c05-b5ad-ecad4e219040",
   "metadata": {},
   "outputs": [],
   "source": [
    "#Step 1: Get the full address and see what's up"
   ]
  },
  {
   "cell_type": "code",
   "execution_count": 17,
   "id": "d18c1f8d",
   "metadata": {},
   "outputs": [],
   "source": [
    "df[\"ZIPCODE\"] = df[\"ZIPCODE\"].fillna(0).astype(int)"
   ]
  },
  {
   "cell_type": "code",
   "execution_count": 18,
   "id": "2fe63e3e",
   "metadata": {},
   "outputs": [
    {
     "data": {
      "text/plain": [
       "(319818, 26)"
      ]
     },
     "execution_count": 18,
     "metadata": {},
     "output_type": "execute_result"
    }
   ],
   "source": [
    "df.shape"
   ]
  },
  {
   "cell_type": "code",
   "execution_count": 19,
   "id": "87a8d58f-6e51-4c2f-8f23-56bb8ee37ef2",
   "metadata": {},
   "outputs": [
    {
     "data": {
      "text/plain": [
       "0    603 FORT WASHINGTON AVENUE, New York, 10040\n",
       "1          216 EAST  170 STREET, New York, 10456\n",
       "2           105A DYCKMAN STREET, New York, 10040\n",
       "3               9215 149 STREET, New York, 11435\n",
       "4           13311 CROSSBAY BLVD, New York, 11417\n",
       "Name: Address, dtype: object"
      ]
     },
     "execution_count": 19,
     "metadata": {},
     "output_type": "execute_result"
    }
   ],
   "source": [
    "df[\"Address\"] =  df[\"BUILDING\"] + \" \"  + df[\"STREET\"] + \", New York, \" + df[\"ZIPCODE\"].astype(str)\n",
    "df[\"PART ADDRESS\"] = df[\"BUILDING\"] + \" \" + df[\"STREET\"]\n",
    "df[\"Address\"].head()"
   ]
  },
  {
   "cell_type": "code",
   "execution_count": 20,
   "id": "ea330f31",
   "metadata": {},
   "outputs": [],
   "source": [
    "a = df[df[\"Latitude\"] == 0] \n",
    "b = df[df[\"Latitude\"].isna()]\n",
    "remove_these = pd.concat([a,b])\n",
    "series = remove_these[\"ZIPCODE\"] == 0\n",
    "remove_these = remove_these[~series]\n",
    "remove_these[\"Address\"].dropna()\n",
    "testing = remove_these[[\"Address\"]]"
   ]
  },
  {
   "cell_type": "code",
   "execution_count": 30,
   "id": "1b41a630",
   "metadata": {},
   "outputs": [
    {
     "data": {
      "text/html": [
       "<div>\n",
       "<style scoped>\n",
       "    .dataframe tbody tr th:only-of-type {\n",
       "        vertical-align: middle;\n",
       "    }\n",
       "\n",
       "    .dataframe tbody tr th {\n",
       "        vertical-align: top;\n",
       "    }\n",
       "\n",
       "    .dataframe thead th {\n",
       "        text-align: right;\n",
       "    }\n",
       "</style>\n",
       "<table border=\"1\" class=\"dataframe\">\n",
       "  <thead>\n",
       "    <tr style=\"text-align: right;\">\n",
       "      <th></th>\n",
       "      <th>Address</th>\n",
       "    </tr>\n",
       "  </thead>\n",
       "  <tbody>\n",
       "    <tr>\n",
       "      <th>63</th>\n",
       "      <td>1 INTREPID SQ, New York, 10019</td>\n",
       "    </tr>\n",
       "    <tr>\n",
       "      <th>594</th>\n",
       "      <td>94 WYTHE AVE, New York, 11249</td>\n",
       "    </tr>\n",
       "    <tr>\n",
       "      <th>863</th>\n",
       "      <td>20408 BASHAN DR, New York, 20147</td>\n",
       "    </tr>\n",
       "    <tr>\n",
       "      <th>1222</th>\n",
       "      <td>1139/1141 CLARKSON AVE, New York, 11212</td>\n",
       "    </tr>\n",
       "    <tr>\n",
       "      <th>1567</th>\n",
       "      <td>NKA PENN STATION A, New York, 10121</td>\n",
       "    </tr>\n",
       "    <tr>\n",
       "      <th>...</th>\n",
       "      <td>...</td>\n",
       "    </tr>\n",
       "    <tr>\n",
       "      <th>309547</th>\n",
       "      <td>NKA PENN STATION A, New York, 10121</td>\n",
       "    </tr>\n",
       "    <tr>\n",
       "      <th>310024</th>\n",
       "      <td>122 E 42ND ST, New York, 10168</td>\n",
       "    </tr>\n",
       "    <tr>\n",
       "      <th>311658</th>\n",
       "      <td>94 WYTHE AVE, New York, 11249</td>\n",
       "    </tr>\n",
       "    <tr>\n",
       "      <th>314733</th>\n",
       "      <td>47 S 5TH ST, New York, 11249</td>\n",
       "    </tr>\n",
       "    <tr>\n",
       "      <th>315891</th>\n",
       "      <td>45 S 3RD ST, New York, 11249</td>\n",
       "    </tr>\n",
       "  </tbody>\n",
       "</table>\n",
       "<p>139 rows × 1 columns</p>\n",
       "</div>"
      ],
      "text/plain": [
       "                                        Address\n",
       "63               1 INTREPID SQ, New York, 10019\n",
       "594               94 WYTHE AVE, New York, 11249\n",
       "863            20408 BASHAN DR, New York, 20147\n",
       "1222    1139/1141 CLARKSON AVE, New York, 11212\n",
       "1567        NKA PENN STATION A, New York, 10121\n",
       "...                                         ...\n",
       "309547      NKA PENN STATION A, New York, 10121\n",
       "310024           122 E 42ND ST, New York, 10168\n",
       "311658            94 WYTHE AVE, New York, 11249\n",
       "314733             47 S 5TH ST, New York, 11249\n",
       "315891             45 S 3RD ST, New York, 11249\n",
       "\n",
       "[139 rows x 1 columns]"
      ]
     },
     "execution_count": 30,
     "metadata": {},
     "output_type": "execute_result"
    }
   ],
   "source": [
    "test = remove_these[[\"Address\"]].dropna()\n",
    "test"
   ]
  },
  {
   "cell_type": "code",
   "execution_count": 22,
   "id": "6aec173b",
   "metadata": {},
   "outputs": [],
   "source": [
    "test.to_csv(\"testing.csv\", index=False)"
   ]
  },
  {
   "cell_type": "code",
   "execution_count": 23,
   "id": "fe2c4751",
   "metadata": {},
   "outputs": [
    {
     "data": {
      "text/plain": [
       "Index(['Address', 'Unique ID', 'Street_address', 'City', 'State', 'ZIP'], dtype='object')"
      ]
     },
     "execution_count": 23,
     "metadata": {},
     "output_type": "execute_result"
    }
   ],
   "source": [
    "tdf = pd.read_csv('testing.csv')\n",
    "tdf['Unique ID'] = range(1,len(tdf)+1)\n",
    "tdf['Street_address'] = tdf['Address'].apply(lambda x: x.split(',')[0])\n",
    "tdf['City'] = tdf['Address'].apply(lambda x: x.split(',')[1])\n",
    "tdf['State'] = np.nan\n",
    "tdf['ZIP'] = tdf['Address'].apply(lambda x: x.split(',')[2])\n",
    "tdf.drop('Address', axis=1).to_csv('testing2.csv',index=False)\n",
    "tdf.columns\n"
   ]
  },
  {
   "cell_type": "code",
   "execution_count": 24,
   "id": "1983ee61",
   "metadata": {},
   "outputs": [
    {
     "name": "stderr",
     "output_type": "stream",
     "text": [
      "  % Total    % Received % Xferd  Average Speed   Time    Time     Time  Current\n",
      "                                 Dload  Upload   Total   Spent    Left  Speed\n",
      "\n",
      "  0     0    0     0    0     0      0      0 --:--:-- --:--:-- --:--:--     0\n",
      "100  5842    0     0  100  5842      0   4610  0:00:01  0:00:01 --:--:--  4610\n",
      "100  5842    0     0  100  5842      0   2636  0:00:02  0:00:02 --:--:--  2636\n",
      "100 22740  100 16898  100  5842   7123   2462  0:00:02  0:00:02 --:--:--  9590\n"
     ]
    }
   ],
   "source": [
    "!curl --form addressFile=@testing2.csv --form benchmark=2020 https://geocoding.geo.census.gov/geocoder/locations/addressbatch --output geocoderesult.csv\n"
   ]
  },
  {
   "cell_type": "code",
   "execution_count": 33,
   "id": "4d6c0a9a",
   "metadata": {},
   "outputs": [
    {
     "data": {
      "text/plain": [
       "(140, 8)"
      ]
     },
     "execution_count": 33,
     "metadata": {},
     "output_type": "execute_result"
    }
   ],
   "source": [
    "geocoded_census = pd.read_csv('geocoderesult.csv', names = ['Unique ID','Address','MATCH','TYPE','Found Address','Coords','Something','Something2'])\n",
    "\n",
    "geocoded_census.shape"
   ]
  },
  {
   "cell_type": "code",
   "execution_count": null,
   "id": "80fd9035",
   "metadata": {},
   "outputs": [],
   "source": [
    "geocoded_census[\"MATCH\"].value_counts()\n",
    "geocoded_census = geocoded_census[~geocoded_census[\"Coords\"].isna()]\n",
    "geocoded_census[\"Latitude\"] = geocoded_census[\"Coords\"].apply(lambda x: str(x).split(\",\")[0])\n",
    "geocoded_census[\"Longitude\"] = geocoded_census[\"Coords\"].apply(lambda x: str(x).split(\",\")[1])\n",
    "\n",
    "geocoded_census"
   ]
  },
  {
   "cell_type": "code",
   "execution_count": 15,
   "id": "a039e1ac",
   "metadata": {
    "scrolled": true
   },
   "outputs": [
    {
     "data": {
      "text/html": [
       "<div>\n",
       "<style scoped>\n",
       "    .dataframe tbody tr th:only-of-type {\n",
       "        vertical-align: middle;\n",
       "    }\n",
       "\n",
       "    .dataframe tbody tr th {\n",
       "        vertical-align: top;\n",
       "    }\n",
       "\n",
       "    .dataframe thead th {\n",
       "        text-align: right;\n",
       "    }\n",
       "</style>\n",
       "<table border=\"1\" class=\"dataframe\">\n",
       "  <thead>\n",
       "    <tr style=\"text-align: right;\">\n",
       "      <th></th>\n",
       "      <th>Unique ID</th>\n",
       "      <th>Address</th>\n",
       "      <th>MATCH</th>\n",
       "      <th>TYPE</th>\n",
       "      <th>Found Address</th>\n",
       "      <th>Coords</th>\n",
       "      <th>Something</th>\n",
       "      <th>Something2</th>\n",
       "      <th>Latitude</th>\n",
       "      <th>Longitude</th>\n",
       "    </tr>\n",
       "  </thead>\n",
       "  <tbody>\n",
       "    <tr>\n",
       "      <th>0</th>\n",
       "      <td>88</td>\n",
       "      <td>122 E 42ND ST,  New York, ,  10168</td>\n",
       "      <td>Match</td>\n",
       "      <td>Non_Exact</td>\n",
       "      <td>122 E 42ND ST, NEW YORK, NY, 10017</td>\n",
       "      <td>-73.97628490999995,40.75153467600006</td>\n",
       "      <td>59658687.0</td>\n",
       "      <td>R</td>\n",
       "      <td>-73.97628490999995</td>\n",
       "      <td>40.75153467600006</td>\n",
       "    </tr>\n",
       "    <tr>\n",
       "      <th>1</th>\n",
       "      <td>89</td>\n",
       "      <td>47 S 5TH ST,  New York, ,  11249</td>\n",
       "      <td>Match</td>\n",
       "      <td>Non_Exact</td>\n",
       "      <td>47 S 5TH ST, BROOKLYN, NY, 11249</td>\n",
       "      <td>-73.96664307199995,40.712232638000046</td>\n",
       "      <td>59075970.0</td>\n",
       "      <td>L</td>\n",
       "      <td>-73.96664307199995</td>\n",
       "      <td>40.712232638000046</td>\n",
       "    </tr>\n",
       "    <tr>\n",
       "      <th>2</th>\n",
       "      <td>110</td>\n",
       "      <td>45 S 3RD ST,  New York, ,  11249</td>\n",
       "      <td>Match</td>\n",
       "      <td>Non_Exact</td>\n",
       "      <td>45 S 3RD ST, BROOKLYN, NY, 11249</td>\n",
       "      <td>-73.96561957099993,40.71352219500005</td>\n",
       "      <td>650082911.0</td>\n",
       "      <td>L</td>\n",
       "      <td>-73.96561957099993</td>\n",
       "      <td>40.71352219500005</td>\n",
       "    </tr>\n",
       "    <tr>\n",
       "      <th>3</th>\n",
       "      <td>111</td>\n",
       "      <td>45 S 3RD ST,  New York, ,  11249</td>\n",
       "      <td>Match</td>\n",
       "      <td>Non_Exact</td>\n",
       "      <td>45 S 3RD ST, BROOKLYN, NY, 11249</td>\n",
       "      <td>-73.96561957099993,40.71352219500005</td>\n",
       "      <td>650082911.0</td>\n",
       "      <td>L</td>\n",
       "      <td>-73.96561957099993</td>\n",
       "      <td>40.71352219500005</td>\n",
       "    </tr>\n",
       "    <tr>\n",
       "      <th>4</th>\n",
       "      <td>112</td>\n",
       "      <td>45 S 3RD ST,  New York, ,  11249</td>\n",
       "      <td>Match</td>\n",
       "      <td>Non_Exact</td>\n",
       "      <td>45 S 3RD ST, BROOKLYN, NY, 11249</td>\n",
       "      <td>-73.96561957099993,40.71352219500005</td>\n",
       "      <td>650082911.0</td>\n",
       "      <td>L</td>\n",
       "      <td>-73.96561957099993</td>\n",
       "      <td>40.71352219500005</td>\n",
       "    </tr>\n",
       "  </tbody>\n",
       "</table>\n",
       "</div>"
      ],
      "text/plain": [
       "  Unique ID                             Address  MATCH       TYPE  \\\n",
       "0        88  122 E 42ND ST,  New York, ,  10168  Match  Non_Exact   \n",
       "1        89    47 S 5TH ST,  New York, ,  11249  Match  Non_Exact   \n",
       "2       110    45 S 3RD ST,  New York, ,  11249  Match  Non_Exact   \n",
       "3       111    45 S 3RD ST,  New York, ,  11249  Match  Non_Exact   \n",
       "4       112    45 S 3RD ST,  New York, ,  11249  Match  Non_Exact   \n",
       "\n",
       "                        Found Address                                 Coords  \\\n",
       "0  122 E 42ND ST, NEW YORK, NY, 10017   -73.97628490999995,40.75153467600006   \n",
       "1    47 S 5TH ST, BROOKLYN, NY, 11249  -73.96664307199995,40.712232638000046   \n",
       "2    45 S 3RD ST, BROOKLYN, NY, 11249   -73.96561957099993,40.71352219500005   \n",
       "3    45 S 3RD ST, BROOKLYN, NY, 11249   -73.96561957099993,40.71352219500005   \n",
       "4    45 S 3RD ST, BROOKLYN, NY, 11249   -73.96561957099993,40.71352219500005   \n",
       "\n",
       "     Something Something2            Latitude           Longitude  \n",
       "0   59658687.0          R  -73.97628490999995   40.75153467600006  \n",
       "1   59075970.0          L  -73.96664307199995  40.712232638000046  \n",
       "2  650082911.0          L  -73.96561957099993   40.71352219500005  \n",
       "3  650082911.0          L  -73.96561957099993   40.71352219500005  \n",
       "4  650082911.0          L  -73.96561957099993   40.71352219500005  "
      ]
     },
     "execution_count": 15,
     "metadata": {},
     "output_type": "execute_result"
    }
   ],
   "source": [
    "geocoded_census.drop(columns=['MATCH', 'TYPE','Coords', 'Something', 'Something2'])\n",
    "geocoded_census.head()\n",
    "geocoded.apply(lambda x: x)"
   ]
  },
  {
   "cell_type": "code",
   "execution_count": 17,
   "id": "ab8fc364",
   "metadata": {},
   "outputs": [
    {
     "ename": "KeyError",
     "evalue": "\"None of ['Address'] are in the columns\"",
     "output_type": "error",
     "traceback": [
      "\u001b[1;31m---------------------------------------------------------------------------\u001b[0m",
      "\u001b[1;31mKeyError\u001b[0m                                  Traceback (most recent call last)",
      "\u001b[1;32m<ipython-input-17-4ab7272eae65>\u001b[0m in \u001b[0;36m<module>\u001b[1;34m\u001b[0m\n\u001b[1;32m----> 1\u001b[1;33m \u001b[0mdf\u001b[0m \u001b[1;33m=\u001b[0m \u001b[0mdf\u001b[0m\u001b[1;33m.\u001b[0m\u001b[0mset_index\u001b[0m\u001b[1;33m(\u001b[0m\u001b[1;34m\"Address\"\u001b[0m\u001b[1;33m)\u001b[0m\u001b[1;33m\u001b[0m\u001b[1;33m\u001b[0m\u001b[0m\n\u001b[0m\u001b[0;32m      2\u001b[0m \u001b[0mgeocoded_census\u001b[0m \u001b[1;33m=\u001b[0m \u001b[0mgeocoded_census\u001b[0m\u001b[1;33m.\u001b[0m\u001b[0mset_index\u001b[0m\u001b[1;33m(\u001b[0m\u001b[1;34m\"Address\"\u001b[0m\u001b[1;33m)\u001b[0m\u001b[1;33m\u001b[0m\u001b[1;33m\u001b[0m\u001b[0m\n\u001b[0;32m      3\u001b[0m \u001b[0mdf\u001b[0m \u001b[1;33m=\u001b[0m \u001b[0mdf\u001b[0m\u001b[1;33m.\u001b[0m\u001b[0mfillna\u001b[0m\u001b[1;33m(\u001b[0m\u001b[0mgeocoded_census\u001b[0m\u001b[1;33m)\u001b[0m\u001b[1;33m\u001b[0m\u001b[1;33m\u001b[0m\u001b[0m\n",
      "\u001b[1;32m~\\anaconda3\\lib\\site-packages\\pandas\\core\\frame.py\u001b[0m in \u001b[0;36mset_index\u001b[1;34m(self, keys, drop, append, inplace, verify_integrity)\u001b[0m\n\u001b[0;32m   4725\u001b[0m \u001b[1;33m\u001b[0m\u001b[0m\n\u001b[0;32m   4726\u001b[0m         \u001b[1;32mif\u001b[0m \u001b[0mmissing\u001b[0m\u001b[1;33m:\u001b[0m\u001b[1;33m\u001b[0m\u001b[1;33m\u001b[0m\u001b[0m\n\u001b[1;32m-> 4727\u001b[1;33m             \u001b[1;32mraise\u001b[0m \u001b[0mKeyError\u001b[0m\u001b[1;33m(\u001b[0m\u001b[1;34mf\"None of {missing} are in the columns\"\u001b[0m\u001b[1;33m)\u001b[0m\u001b[1;33m\u001b[0m\u001b[1;33m\u001b[0m\u001b[0m\n\u001b[0m\u001b[0;32m   4728\u001b[0m \u001b[1;33m\u001b[0m\u001b[0m\n\u001b[0;32m   4729\u001b[0m         \u001b[1;32mif\u001b[0m \u001b[0minplace\u001b[0m\u001b[1;33m:\u001b[0m\u001b[1;33m\u001b[0m\u001b[1;33m\u001b[0m\u001b[0m\n",
      "\u001b[1;31mKeyError\u001b[0m: \"None of ['Address'] are in the columns\""
     ]
    }
   ],
   "source": [
    "df = df.set_index(\"Address\")\n",
    "geocoded_census = geocoded_census.set_index(\"Address\")\n",
    "df = df.fillna(geocoded_census)"
   ]
  }
 ],
 "metadata": {
  "kernelspec": {
   "display_name": "Python 3",
   "language": "python",
   "name": "python3"
  },
  "language_info": {
   "codemirror_mode": {
    "name": "ipython",
    "version": 3
   },
   "file_extension": ".py",
   "mimetype": "text/x-python",
   "name": "python",
   "nbconvert_exporter": "python",
   "pygments_lexer": "ipython3",
   "version": "3.8.8"
  }
 },
 "nbformat": 4,
 "nbformat_minor": 5
}
